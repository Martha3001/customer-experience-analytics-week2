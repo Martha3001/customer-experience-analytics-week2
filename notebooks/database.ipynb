{
 "cells": [
  {
   "cell_type": "code",
   "execution_count": null,
   "id": "7de47bf7",
   "metadata": {},
   "outputs": [],
   "source": [
    "import oracledb\n",
    "import pandas as pd\n",
    "import getpass\n",
    "import os\n",
    "\n",
    "# --- Database Connection Details (Oracle XE) ---\n",
    "dsn_tns = \"localhost:1521/XEPDB1\"\n",
    "db_user = 'system'\n",
    "db_password = getpass.getpass(\"Enter Oracle DB password: \") # Prompt for password securely\n",
    "\n",
    "\n",
    "# Attempt to connect to the database\n",
    "connection = oracledb.connect(user=db_user, password=db_password, dsn=dsn_tns)\n",
    "cursor = connection.cursor()\n",
    "print(\"Successfully connected to Oracle Database.\")\n",
    "\n"
   ]
  }
 ],
 "metadata": {
  "language_info": {
   "name": "python"
  }
 },
 "nbformat": 4,
 "nbformat_minor": 5
}
