{
 "cells": [
  {
   "cell_type": "markdown",
   "id": "6c22a9be",
   "metadata": {},
   "source": [
    "# Data Collection"
   ]
  },
  {
   "cell_type": "markdown",
   "id": "d20addd4",
   "metadata": {},
   "source": [
    "## Import libraries and custom functions"
   ]
  },
  {
   "cell_type": "code",
   "execution_count": null,
   "id": "ca5e5cab",
   "metadata": {},
   "outputs": [],
   "source": [
    "import pandas as pd\n",
    "import time\n",
    "import os\n",
    "import sys\n",
    "module_path = os.path.abspath(os.path.join('..'))\n",
    "if module_path not in sys.path:\n",
    "    sys.path.append(module_path)\n",
    "\n",
    "from scripts.scraping import GooglePlayScraper"
   ]
  },
  {
   "cell_type": "code",
   "execution_count": 2,
   "id": "8d8dcf28",
   "metadata": {},
   "outputs": [],
   "source": [
    "# List of bank apps to scrape (app IDs from Google Play Store)\n",
    "bank_apps = {\n",
    "    'Commercial Bank of Ethiopia (CBE)': 'com.combanketh.mobilebanking',\n",
    "    'Bank of Abyssinia (BOA)': 'com.boa.boaMobileBanking',\n",
    "    'Dashen Bank': 'com.dashen.dashensuperapp'\n",
    "}"
   ]
  },
  {
   "cell_type": "code",
   "execution_count": 3,
   "id": "5fa06cc2",
   "metadata": {},
   "outputs": [
    {
     "name": "stdout",
     "output_type": "stream",
     "text": [
      "Collecting data for Commercial Bank of Ethiopia (CBE)...\n",
      "Finished scraping 400 reviews for com.combanketh.mobilebanking\n",
      "Collecting data for Bank of Abyssinia (BOA)...\n",
      "Finished scraping 400 reviews for com.boa.boaMobileBanking\n",
      "Collecting data for Dashen Bank...\n",
      "Finished scraping 400 reviews for com.dashen.dashensuperapp\n"
     ]
    }
   ],
   "source": [
    "# Collect data for all bank apps\n",
    "all_reviews = pd.DataFrame()\n",
    "\n",
    "for app_name, app_id in bank_apps.items():\n",
    "    print(f\"Collecting data for {app_name}...\")\n",
    "    \n",
    "    # Get reviews\n",
    "    reviews_df = GooglePlayScraper.get_app_reviews(app_id, app_name)\n",
    "    all_reviews = pd.concat([all_reviews, reviews_df], ignore_index=True)\n",
    "    \n",
    "    # Sleep between requests\n",
    "    time.sleep(2)"
   ]
  },
  {
   "cell_type": "code",
   "execution_count": 4,
   "id": "55520074",
   "metadata": {},
   "outputs": [
    {
     "name": "stdout",
     "output_type": "stream",
     "text": [
      "Reviews saved to bank_app_reviews.csv\n",
      "Data collection complete!\n"
     ]
    }
   ],
   "source": [
    "# Save results to CSV files\n",
    "if not all_reviews.empty:\n",
    "    all_reviews.to_csv('../data/raw/bank_app_reviews.csv', index=False)\n",
    "    print(\"Reviews saved to bank_app_reviews.csv\")\n",
    "\n",
    "print(\"Data collection complete!\") "
   ]
  },
  {
   "cell_type": "code",
   "execution_count": 5,
   "id": "7f3d6b9a",
   "metadata": {},
   "outputs": [
    {
     "data": {
      "application/vnd.microsoft.datawrangler.viewer.v0+json": {
       "columns": [
        {
         "name": "index",
         "rawType": "int64",
         "type": "integer"
        },
        {
         "name": "content",
         "rawType": "object",
         "type": "string"
        },
        {
         "name": "score",
         "rawType": "int64",
         "type": "integer"
        },
        {
         "name": "at",
         "rawType": "datetime64[ns]",
         "type": "datetime"
        },
        {
         "name": "app_name",
         "rawType": "object",
         "type": "string"
        },
        {
         "name": "source",
         "rawType": "object",
         "type": "string"
        }
       ],
       "ref": "016680b6-1ead-4458-9039-6503895532a9",
       "rows": [
        [
         "0",
         "20 years",
         "5",
         "2025-06-08 12:04:48",
         "Commercial Bank of Ethiopia (CBE)",
         "Google Play Store"
        ],
        [
         "1",
         "A great app. It's like carrying a bank in your pocket.",
         "4",
         "2025-06-07 20:21:52",
         "Commercial Bank of Ethiopia (CBE)",
         "Google Play Store"
        ],
        [
         "2",
         "More than garrantty bank EBC.",
         "4",
         "2025-06-07 18:21:26",
         "Commercial Bank of Ethiopia (CBE)",
         "Google Play Store"
        ],
        [
         "3",
         "really am happy to this app it is Siple to use everything",
         "5",
         "2025-06-07 11:02:38",
         "Commercial Bank of Ethiopia (CBE)",
         "Google Play Store"
        ],
        [
         "4",
         "I liked this app. But the User interface is very basic and not attractive at all.",
         "2",
         "2025-06-07 10:50:29",
         "Commercial Bank of Ethiopia (CBE)",
         "Google Play Store"
        ],
        [
         "5",
         "\"Why don’t your ATMs support account-to-account transfers like other countries( Kenya, Nigeria , South africa)\"",
         "4",
         "2025-06-06 09:54:11",
         "Commercial Bank of Ethiopia (CBE)",
         "Google Play Store"
        ],
        [
         "6",
         "what is this app problem???",
         "1",
         "2025-06-05 22:16:56",
         "Commercial Bank of Ethiopia (CBE)",
         "Google Play Store"
        ],
        [
         "7",
         "the app is proactive and a good connections.",
         "5",
         "2025-06-05 15:55:10",
         "Commercial Bank of Ethiopia (CBE)",
         "Google Play Store"
        ],
        [
         "8",
         "I cannot send to cbebirr app. through this app.",
         "3",
         "2025-06-05 11:12:49",
         "Commercial Bank of Ethiopia (CBE)",
         "Google Play Store"
        ],
        [
         "9",
         "good",
         "4",
         "2025-06-05 10:21:59",
         "Commercial Bank of Ethiopia (CBE)",
         "Google Play Store"
        ],
        [
         "10",
         "not functional",
         "1",
         "2025-06-05 07:38:12",
         "Commercial Bank of Ethiopia (CBE)",
         "Google Play Store"
        ],
        [
         "11",
         "everytime you uninstall the app you have to reach them out physically. very oldy! if that's one of security layer, they'd check for fraud attempt via app source directly(source:- app store, play store ... etc) implicitly ! we are in 2025, physical presence for every app install is traditional(traditionally very rare).",
         "1",
         "2025-06-04 21:33:36",
         "Commercial Bank of Ethiopia (CBE)",
         "Google Play Store"
        ],
        [
         "12",
         "አካውንት የምናስገባበት ቦታ ስም ጽፈን ነው ከዚህ በፊት የላክንባቸውን አካዉንቶች የምንፈልገዉ ነገር ግን አዲስ አካውንቶች mr ብለዉ የሚጀምሩ በዝተዋል ግን አፕልኬሽኑ space ስንጽፍ አይቀበልም ቢስተካከል",
         "4",
         "2025-06-04 20:54:30",
         "Commercial Bank of Ethiopia (CBE)",
         "Google Play Store"
        ],
        [
         "13",
         "best",
         "5",
         "2025-06-04 19:59:04",
         "Commercial Bank of Ethiopia (CBE)",
         "Google Play Store"
        ],
        [
         "14",
         "bezabih",
         "5",
         "2025-06-04 18:22:41",
         "Commercial Bank of Ethiopia (CBE)",
         "Google Play Store"
        ],
        [
         "15",
         "Best Mobile Banking app ever",
         "5",
         "2025-06-04 16:50:52",
         "Commercial Bank of Ethiopia (CBE)",
         "Google Play Store"
        ],
        [
         "16",
         "good",
         "5",
         "2025-06-04 16:00:15",
         "Commercial Bank of Ethiopia (CBE)",
         "Google Play Store"
        ],
        [
         "17",
         "it was good app but it have some issues like it doesnt give me the right amount that I have in the bank and have some issues in transferring",
         "2",
         "2025-06-04 15:56:02",
         "Commercial Bank of Ethiopia (CBE)",
         "Google Play Store"
        ],
        [
         "18",
         "good",
         "5",
         "2025-06-04 14:59:40",
         "Commercial Bank of Ethiopia (CBE)",
         "Google Play Store"
        ],
        [
         "19",
         "Good",
         "5",
         "2025-06-04 14:52:50",
         "Commercial Bank of Ethiopia (CBE)",
         "Google Play Store"
        ],
        [
         "20",
         "👌👍",
         "5",
         "2025-06-04 12:43:21",
         "Commercial Bank of Ethiopia (CBE)",
         "Google Play Store"
        ],
        [
         "21",
         "very niec",
         "5",
         "2025-06-04 11:21:53",
         "Commercial Bank of Ethiopia (CBE)",
         "Google Play Store"
        ],
        [
         "22",
         "best app of finance",
         "5",
         "2025-06-04 07:38:54",
         "Commercial Bank of Ethiopia (CBE)",
         "Google Play Store"
        ],
        [
         "23",
         "yetemeta",
         "1",
         "2025-06-03 21:04:44",
         "Commercial Bank of Ethiopia (CBE)",
         "Google Play Store"
        ],
        [
         "24",
         "Engida Kebede Fetera",
         "5",
         "2025-06-03 20:20:23",
         "Commercial Bank of Ethiopia (CBE)",
         "Google Play Store"
        ],
        [
         "25",
         "good",
         "5",
         "2025-06-03 11:32:52",
         "Commercial Bank of Ethiopia (CBE)",
         "Google Play Store"
        ],
        [
         "26",
         "it is not safety",
         "1",
         "2025-06-03 09:14:31",
         "Commercial Bank of Ethiopia (CBE)",
         "Google Play Store"
        ],
        [
         "27",
         "NICE bank",
         "5",
         "2025-06-03 08:42:36",
         "Commercial Bank of Ethiopia (CBE)",
         "Google Play Store"
        ],
        [
         "28",
         "it is like a childish app make it better the worst I have ever seen",
         "1",
         "2025-06-02 12:23:42",
         "Commercial Bank of Ethiopia (CBE)",
         "Google Play Store"
        ],
        [
         "29",
         "It's a problem solver application, go ahead CBE, I love so much.",
         "5",
         "2025-06-02 10:40:18",
         "Commercial Bank of Ethiopia (CBE)",
         "Google Play Store"
        ],
        [
         "30",
         "It's good but try to make it facilitate for your client",
         "4",
         "2025-06-02 09:11:40",
         "Commercial Bank of Ethiopia (CBE)",
         "Google Play Store"
        ],
        [
         "31",
         "best app",
         "5",
         "2025-06-01 21:16:28",
         "Commercial Bank of Ethiopia (CBE)",
         "Google Play Store"
        ],
        [
         "32",
         "Awesome bank",
         "5",
         "2025-06-01 20:31:42",
         "Commercial Bank of Ethiopia (CBE)",
         "Google Play Store"
        ],
        [
         "33",
         "this app has developed in a very good ways but there are some comments I need to make 1- preventing the screenshot likely not good for someone like me coz I need to make screenshot for quicker evidence. 2-it would be good if you make us to access recent transaction histories for 30 days coz we don't have to go to the Bank's in person to see old transactions or add colander category so user can easily access old transactions through colanders.",
         "5",
         "2025-05-31 21:21:18",
         "Commercial Bank of Ethiopia (CBE)",
         "Google Play Store"
        ],
        [
         "34",
         "Masha alla",
         "5",
         "2025-05-31 14:37:05",
         "Commercial Bank of Ethiopia (CBE)",
         "Google Play Store"
        ],
        [
         "35",
         "Recently there is big problem when sending to safaricom, telebir, and even to cbebirr wallet could anybody who is responsible fix it, it's very frustrating it's been 5 days and my money hasn't been returned it takes it out of my account but doesn't send it to my mpesa update- they have just corrected it and sent me back the money but still I'm afraid now to send again",
         "2",
         "2025-05-31 11:30:33",
         "Commercial Bank of Ethiopia (CBE)",
         "Google Play Store"
        ],
        [
         "36",
         "better service",
         "5",
         "2025-05-31 07:28:05",
         "Commercial Bank of Ethiopia (CBE)",
         "Google Play Store"
        ],
        [
         "37",
         "it,s good app and time manager 👍",
         "5",
         "2025-05-30 19:13:36",
         "Commercial Bank of Ethiopia (CBE)",
         "Google Play Store"
        ],
        [
         "38",
         "malkaamuu Jiidhaa Namoo",
         "5",
         "2025-05-30 15:08:04",
         "Commercial Bank of Ethiopia (CBE)",
         "Google Play Store"
        ],
        [
         "39",
         "lower system everything",
         "3",
         "2025-05-30 13:45:05",
         "Commercial Bank of Ethiopia (CBE)",
         "Google Play Store"
        ],
        [
         "40",
         "Nice!",
         "5",
         "2025-05-30 11:55:13",
         "Commercial Bank of Ethiopia (CBE)",
         "Google Play Store"
        ],
        [
         "41",
         "Keep it up My CBE",
         "5",
         "2025-05-29 09:38:37",
         "Commercial Bank of Ethiopia (CBE)",
         "Google Play Store"
        ],
        [
         "42",
         "yes good",
         "5",
         "2025-05-28 15:56:18",
         "Commercial Bank of Ethiopia (CBE)",
         "Google Play Store"
        ],
        [
         "43",
         "I was using this app for the last two years with no problems. It stopped working about 3 months ago. when I tried to transfer funds it gives me error \"can't do this transaction. inactive account.\"",
         "4",
         "2025-05-27 23:47:06",
         "Commercial Bank of Ethiopia (CBE)",
         "Google Play Store"
        ],
        [
         "44",
         "i like everything of this app",
         "5",
         "2025-05-27 21:34:01",
         "Commercial Bank of Ethiopia (CBE)",
         "Google Play Store"
        ],
        [
         "45",
         "good",
         "5",
         "2025-05-27 17:48:15",
         "Commercial Bank of Ethiopia (CBE)",
         "Google Play Store"
        ],
        [
         "46",
         "🤬🤬🤬🤬 network 🛜",
         "1",
         "2025-05-26 17:59:50",
         "Commercial Bank of Ethiopia (CBE)",
         "Google Play Store"
        ],
        [
         "47",
         "Best",
         "5",
         "2025-05-26 15:22:54",
         "Commercial Bank of Ethiopia (CBE)",
         "Google Play Store"
        ],
        [
         "48",
         "CBE is the best financial application and and very dimple to use. I would like to say thank you so much for the developer of application. I really appreciate this app.",
         "5",
         "2025-05-26 13:43:02",
         "Commercial Bank of Ethiopia (CBE)",
         "Google Play Store"
        ],
        [
         "49",
         "nice",
         "5",
         "2025-05-26 13:26:26",
         "Commercial Bank of Ethiopia (CBE)",
         "Google Play Store"
        ]
       ],
       "shape": {
        "columns": 5,
        "rows": 1200
       }
      },
      "text/html": [
       "<div>\n",
       "<style scoped>\n",
       "    .dataframe tbody tr th:only-of-type {\n",
       "        vertical-align: middle;\n",
       "    }\n",
       "\n",
       "    .dataframe tbody tr th {\n",
       "        vertical-align: top;\n",
       "    }\n",
       "\n",
       "    .dataframe thead th {\n",
       "        text-align: right;\n",
       "    }\n",
       "</style>\n",
       "<table border=\"1\" class=\"dataframe\">\n",
       "  <thead>\n",
       "    <tr style=\"text-align: right;\">\n",
       "      <th></th>\n",
       "      <th>content</th>\n",
       "      <th>score</th>\n",
       "      <th>at</th>\n",
       "      <th>app_name</th>\n",
       "      <th>source</th>\n",
       "    </tr>\n",
       "  </thead>\n",
       "  <tbody>\n",
       "    <tr>\n",
       "      <th>0</th>\n",
       "      <td>20 years</td>\n",
       "      <td>5</td>\n",
       "      <td>2025-06-08 12:04:48</td>\n",
       "      <td>Commercial Bank of Ethiopia (CBE)</td>\n",
       "      <td>Google Play Store</td>\n",
       "    </tr>\n",
       "    <tr>\n",
       "      <th>1</th>\n",
       "      <td>A great app. It's like carrying a bank in your...</td>\n",
       "      <td>4</td>\n",
       "      <td>2025-06-07 20:21:52</td>\n",
       "      <td>Commercial Bank of Ethiopia (CBE)</td>\n",
       "      <td>Google Play Store</td>\n",
       "    </tr>\n",
       "    <tr>\n",
       "      <th>2</th>\n",
       "      <td>More than garrantty bank EBC.</td>\n",
       "      <td>4</td>\n",
       "      <td>2025-06-07 18:21:26</td>\n",
       "      <td>Commercial Bank of Ethiopia (CBE)</td>\n",
       "      <td>Google Play Store</td>\n",
       "    </tr>\n",
       "    <tr>\n",
       "      <th>3</th>\n",
       "      <td>really am happy to this app it is Siple to use...</td>\n",
       "      <td>5</td>\n",
       "      <td>2025-06-07 11:02:38</td>\n",
       "      <td>Commercial Bank of Ethiopia (CBE)</td>\n",
       "      <td>Google Play Store</td>\n",
       "    </tr>\n",
       "    <tr>\n",
       "      <th>4</th>\n",
       "      <td>I liked this app. But the User interface is ve...</td>\n",
       "      <td>2</td>\n",
       "      <td>2025-06-07 10:50:29</td>\n",
       "      <td>Commercial Bank of Ethiopia (CBE)</td>\n",
       "      <td>Google Play Store</td>\n",
       "    </tr>\n",
       "    <tr>\n",
       "      <th>...</th>\n",
       "      <td>...</td>\n",
       "      <td>...</td>\n",
       "      <td>...</td>\n",
       "      <td>...</td>\n",
       "      <td>...</td>\n",
       "    </tr>\n",
       "    <tr>\n",
       "      <th>1195</th>\n",
       "      <td>Wow</td>\n",
       "      <td>5</td>\n",
       "      <td>2025-01-17 22:14:07</td>\n",
       "      <td>Dashen Bank</td>\n",
       "      <td>Google Play Store</td>\n",
       "    </tr>\n",
       "    <tr>\n",
       "      <th>1196</th>\n",
       "      <td>Dashen yichalal. Ewnetem one step a head</td>\n",
       "      <td>5</td>\n",
       "      <td>2025-01-17 20:10:52</td>\n",
       "      <td>Dashen Bank</td>\n",
       "      <td>Google Play Store</td>\n",
       "    </tr>\n",
       "    <tr>\n",
       "      <th>1197</th>\n",
       "      <td>It has a Good performance but need more upgrad...</td>\n",
       "      <td>4</td>\n",
       "      <td>2025-01-17 20:04:25</td>\n",
       "      <td>Dashen Bank</td>\n",
       "      <td>Google Play Store</td>\n",
       "    </tr>\n",
       "    <tr>\n",
       "      <th>1198</th>\n",
       "      <td>It is a very wonderful work that has saved its...</td>\n",
       "      <td>5</td>\n",
       "      <td>2025-01-17 12:04:57</td>\n",
       "      <td>Dashen Bank</td>\n",
       "      <td>Google Play Store</td>\n",
       "    </tr>\n",
       "    <tr>\n",
       "      <th>1199</th>\n",
       "      <td>“Life-changing!” I can’t imagine going back to...</td>\n",
       "      <td>5</td>\n",
       "      <td>2025-01-17 10:18:44</td>\n",
       "      <td>Dashen Bank</td>\n",
       "      <td>Google Play Store</td>\n",
       "    </tr>\n",
       "  </tbody>\n",
       "</table>\n",
       "<p>1200 rows × 5 columns</p>\n",
       "</div>"
      ],
      "text/plain": [
       "                                                content  score  \\\n",
       "0                                              20 years      5   \n",
       "1     A great app. It's like carrying a bank in your...      4   \n",
       "2                         More than garrantty bank EBC.      4   \n",
       "3     really am happy to this app it is Siple to use...      5   \n",
       "4     I liked this app. But the User interface is ve...      2   \n",
       "...                                                 ...    ...   \n",
       "1195                                                Wow      5   \n",
       "1196           Dashen yichalal. Ewnetem one step a head      5   \n",
       "1197  It has a Good performance but need more upgrad...      4   \n",
       "1198  It is a very wonderful work that has saved its...      5   \n",
       "1199  “Life-changing!” I can’t imagine going back to...      5   \n",
       "\n",
       "                      at                           app_name             source  \n",
       "0    2025-06-08 12:04:48  Commercial Bank of Ethiopia (CBE)  Google Play Store  \n",
       "1    2025-06-07 20:21:52  Commercial Bank of Ethiopia (CBE)  Google Play Store  \n",
       "2    2025-06-07 18:21:26  Commercial Bank of Ethiopia (CBE)  Google Play Store  \n",
       "3    2025-06-07 11:02:38  Commercial Bank of Ethiopia (CBE)  Google Play Store  \n",
       "4    2025-06-07 10:50:29  Commercial Bank of Ethiopia (CBE)  Google Play Store  \n",
       "...                  ...                                ...                ...  \n",
       "1195 2025-01-17 22:14:07                        Dashen Bank  Google Play Store  \n",
       "1196 2025-01-17 20:10:52                        Dashen Bank  Google Play Store  \n",
       "1197 2025-01-17 20:04:25                        Dashen Bank  Google Play Store  \n",
       "1198 2025-01-17 12:04:57                        Dashen Bank  Google Play Store  \n",
       "1199 2025-01-17 10:18:44                        Dashen Bank  Google Play Store  \n",
       "\n",
       "[1200 rows x 5 columns]"
      ]
     },
     "metadata": {},
     "output_type": "display_data"
    }
   ],
   "source": [
    "display(all_reviews)"
   ]
  }
 ],
 "metadata": {
  "kernelspec": {
   "display_name": ".venv",
   "language": "python",
   "name": "python3"
  },
  "language_info": {
   "codemirror_mode": {
    "name": "ipython",
    "version": 3
   },
   "file_extension": ".py",
   "mimetype": "text/x-python",
   "name": "python",
   "nbconvert_exporter": "python",
   "pygments_lexer": "ipython3",
   "version": "3.12.3"
  }
 },
 "nbformat": 4,
 "nbformat_minor": 5
}
